{
 "cells": [
  {
   "cell_type": "markdown",
   "id": "922df839",
   "metadata": {},
   "source": [
    "# Image Classification\n",
    "\n",
    "As our first approach, we will develop what we call a __Nearest Neighbor Classifier__. This classifier has nothing to do with Convolutional Neural Networks and it is very rarely used in practice, but it will allow us to get an idea about the basic approach to an image classification problem by means of a data-driven approach."
   ]
  },
  {
   "cell_type": "markdown",
   "id": "6d83b0ac",
   "metadata": {},
   "source": [
    "## 1.1 Dataset\n",
    "\n",
    "One popular toy image classification dataset is the CIFAR-10 dataset. This dataset consists of 60,000 tiny images that are 32 pixels high and wide. Each image is labeled with one of 10 classes (for example “airplane, automobile, bird, etc”). These 60,000 images are partitioned into a training set of 50,000 images and a test set of 10,000 images. \n",
    "\n",
    "When downloading the dataset, the unzipped file comes in 5 training batches and one test batch. I provide a simple script that unpickles and concatenates the batches into one single training set. Therefore, we load the training and test sets."
   ]
  },
  {
   "cell_type": "code",
   "execution_count": 10,
   "id": "c1d8a8d5",
   "metadata": {},
   "outputs": [],
   "source": [
    "import pickle\n",
    "import numpy as np\n",
    "import os\n",
    "\n",
    "def unpickle(file):\n",
    "    with open(file, 'rb') as fo:\n",
    "        dict = pickle.load(fo, encoding='bytes')\n",
    "    return dict\n",
    "\n",
    "# Path to the folder containing the CIFAR-10 batches\n",
    "data_dir = '/Users/kryptonempyrean/Downloads/cifar-10-batches-py'\n",
    "\n",
    "# Initialize lists to store data and labels\n",
    "data_list = []\n",
    "labels_list = []\n",
    "\n",
    "# Load all 5 training batches\n",
    "for i in range(1, 6):\n",
    "    batch = unpickle(os.path.join(data_dir, f'data_batch_{i}'))\n",
    "    data_list.append(batch[b'data'])         # shape: (10000, 3072)\n",
    "    labels_list.extend(batch[b'labels'])     # list of 10000 elements\n",
    "\n",
    "# Concatenate into single arrays\n",
    "Xtr = np.concatenate(data_list, axis=0)      # shape: (50000, 3072)\n",
    "Ytr = np.array(labels_list)                  # shape: (50000,)\n",
    "\n",
    "# Each image is 32x32 with 3 color channels\n",
    "Xtr = Xtr.reshape(-1, 3, 32, 32).transpose(0, 2, 3, 1)  # shape: (50000, 32, 32, 3)\n",
    "\n",
    "# Load the test batch\n",
    "test_batch = unpickle(os.path.join(data_dir, 'test_batch'))\n",
    "\n",
    "Xte = test_batch[b'data']                  # shape: (10000, 3072)\n",
    "Yte = np.array(test_batch[b'labels'])      # shape: (10000,)\n",
    "\n",
    "# Optional: reshape the images to (N, 32, 32, 3)\n",
    "Xte = Xte.reshape(-1, 3, 32, 32).transpose(0, 2, 3, 1)  # shape: (10000, 32, 32, 3)"
   ]
  },
  {
   "cell_type": "markdown",
   "id": "08db807f",
   "metadata": {},
   "source": [
    "We decide to flatten out all the dimensions of the sets to ease overall dimensionality."
   ]
  },
  {
   "cell_type": "code",
   "execution_count": 11,
   "id": "200da010",
   "metadata": {},
   "outputs": [],
   "source": [
    "# flatten out all images to be one-dimensional\n",
    "Xtr_rows = Xtr.reshape(Xtr.shape[0], 32 * 32 * 3) # Xtr_rows becomes 50000 x 3072\n",
    "Xte_rows = Xte.reshape(Xte.shape[0], 32 * 32 * 3) # Xte_rows becomes 10000 x 3072"
   ]
  },
  {
   "cell_type": "markdown",
   "id": "e6a3f849",
   "metadata": {},
   "source": [
    "## 1.2 Coding a NearestNeighbour Classifier\n",
    "\n",
    "We first try with a NN lassifier coded form scratch and applied to our training and tests sets."
   ]
  },
  {
   "cell_type": "code",
   "execution_count": 12,
   "id": "e3a08475",
   "metadata": {},
   "outputs": [],
   "source": [
    "import numpy as np\n",
    "\n",
    "class NearestNeighbor(object):\n",
    "  def __init__(self):\n",
    "    pass\n",
    "\n",
    "  def train(self, X, y):\n",
    "    \"\"\" X is N x D where each row is an example. Y is 1-dimension of size N \"\"\"\n",
    "    # the nearest neighbor classifier simply remembers all the training data\n",
    "    self.Xtr = X\n",
    "    self.ytr = y\n",
    "\n",
    "  def predict(self, X):\n",
    "    \"\"\" X is N x D where each row is an example we wish to predict label for \"\"\"\n",
    "    num_test = X.shape[0]\n",
    "    # lets make sure that the output type matches the input type\n",
    "    Ypred = np.zeros(num_test, dtype = self.ytr.dtype)\n",
    "\n",
    "    # loop over all test rows\n",
    "    for i in range(num_test):\n",
    "      # find the nearest training image to the i'th test image\n",
    "      # using the L1 distance (sum of absolute value differences)\n",
    "      distances = np.sum(np.abs(self.Xtr - X[i,:]), axis = 1)\n",
    "      # distances = np.sqrt(np.sum(np.square(self.Xtr - X[i,:]), axis = 1)) # Using L2-Norm instead\n",
    "      min_index = np.argmin(distances) # get the index with smallest distance\n",
    "      Ypred[i] = self.ytr[min_index] # predict the label of the nearest example\n",
    "\n",
    "    return Ypred"
   ]
  },
  {
   "cell_type": "code",
   "execution_count": 13,
   "id": "550837db",
   "metadata": {},
   "outputs": [
    {
     "name": "stdout",
     "output_type": "stream",
     "text": [
      "accuracy: 0.249200\n"
     ]
    }
   ],
   "source": [
    "nn = NearestNeighbor() \n",
    "nn.train(Xtr_rows, Ytr) \n",
    "Yte_predict = nn.predict(Xte_rows) \n",
    "print(f'accuracy: {np.mean(Yte_predict == Yte):.6f}')"
   ]
  },
  {
   "cell_type": "markdown",
   "id": "59194712",
   "metadata": {},
   "source": [
    "If you ran this code, you would see that this classifier only achieves __24.9%__ on CIFAR-10. That’s more impressive than guessing at random (which would give 10% accuracy since there are 10 classes), but nowhere near human performance (which is estimated at about 94%) or near state-of-the-art Convolutional Neural Networks that achieve about 95%, matching human accuracy "
   ]
  },
  {
   "cell_type": "markdown",
   "id": "a712f5e7",
   "metadata": {},
   "source": [
    "## 1.3 k-NearestNeighbour Classifier\n",
    "\n",
    "It is almost always the case that one can do better by using what’s called a k-Nearest Neighbor Classifier. The idea is very simple: instead of finding the single closest image in the training set, we will find the top k closest images, and have them vote on the label of the test image. In particular, when k = 1, we recover the Nearest Neighbor classifier. Intuitively, higher values of k have a smoothing effect that makes the classifier more resistant to outliers."
   ]
  },
  {
   "cell_type": "code",
   "execution_count": 16,
   "id": "b16f5c02",
   "metadata": {},
   "outputs": [],
   "source": [
    "import numpy as np\n",
    "from collections import Counter\n",
    "\n",
    "class NearestNeighbor(object):\n",
    "  def __init__(self):\n",
    "    pass\n",
    "\n",
    "  def train(self, X, y):\n",
    "    \"\"\" X is N x D where each row is an example. Y is 1-dimension of size N \"\"\"\n",
    "    # the nearest neighbor classifier simply remembers all the training data\n",
    "    self.Xtr = X\n",
    "    self.ytr = y\n",
    "\n",
    "  def predict(self, X, k=1):\n",
    "    \"\"\" X is N x D where each row is an example we wish to predict label for \"\"\"\n",
    "    num_test = X.shape[0]\n",
    "    # lets make sure that the output type matches the input type\n",
    "    Ypred = np.zeros(num_test, dtype = self.ytr.dtype)\n",
    "\n",
    "    # loop over all test rows\n",
    "    for i in range(num_test):\n",
    "      # find the nearest training image to the i'th test image\n",
    "      # using the L1 distance (sum of absolute value differences)\n",
    "      distances = np.sum(np.abs(self.Xtr - X[i,:]), axis = 1)\n",
    "      # distances = np.sqrt(np.sum(np.square(self.Xtr - X[i,:]), axis = 1)) # Using L2-Norm instead\n",
    "      # Get the indices of the k smallest distances\n",
    "      k_indices = np.argsort(distances)[:k]\n",
    "      k_nearest_labels = self.ytr[k_indices]\n",
    "\n",
    "      # Majority vote\n",
    "      most_common = Counter(k_nearest_labels).most_common(1)\n",
    "      Ypred[i] = most_common[0][0]\n",
    "\n",
    "    return Ypred"
   ]
  },
  {
   "cell_type": "code",
   "execution_count": 17,
   "id": "0a84fddd",
   "metadata": {},
   "outputs": [
    {
     "name": "stdout",
     "output_type": "stream",
     "text": [
      "accuracy: 0.253100\n"
     ]
    }
   ],
   "source": [
    "nn = NearestNeighbor() \n",
    "nn.train(Xtr_rows, Ytr) \n",
    "Yte_predict = nn.predict(Xte_rows, k=3) \n",
    "print(f'accuracy: {np.mean(Yte_predict == Yte):.6f}')"
   ]
  },
  {
   "cell_type": "markdown",
   "id": "c9f2ceda",
   "metadata": {},
   "source": [
    "## 1.4 Validation sets for Hyperparameter tuning\n",
    "\n",
    "The k-nearest neighbor classifier requires a setting for k. But what number works best? Additionally, we saw that there are many different distance functions we could have used: L1 norm, L2 norm, there are many other choices we didn’t even consider (e.g. dot products). These choices are called hyperparameters and they come up very often in the design of many Machine Learning algorithms that learn from data. It’s often not obvious what values/settings one should choose.\n",
    "\n",
    "You might be tempted to suggest that we should try out many different values and see what works best. That is a fine idea and that’s indeed what we will do, but this must be done very carefully. In particular, we cannot use the test set for the purpose of tweaking hyperparameters. Whenever you’re designing Machine Learning algorithms, you should think of the test set as a very precious resource that should ideally never be touched until one time at the very end. Otherwise, the very real danger is that you may tune your hyperparameters to work well on the test set, but if you were to deploy your model you could see a significantly reduced performance. In practice, we would say that you overfit to the test set. Another way of looking at it is that if you tune your hyperparameters on the test set, you are effectively using the test set as the training set, and therefore the performance you achieve on it will be too optimistic with respect to what you might actually observe when you deploy your model. But if you only use the test set once at end, it remains a good proxy for measuring the generalization of your classifier (we will see much more discussion surrounding generalization later in the class).\n",
    "\n",
    "Evaluate on the test set only a single time, at the very end.\n",
    "\n",
    "Luckily, there is a correct way of tuning the hyperparameters and it does not touch the test set at all. The idea is to split our training set in two: a slightly smaller training set, and what we call a validation set. Using CIFAR-10 as an example, we could for example use 49,000 of the training images for training, and leave 1,000 aside for validation. This validation set is essentially used as a fake test set to tune the hyper-parameters."
   ]
  },
  {
   "cell_type": "code",
   "execution_count": 18,
   "id": "850ef905",
   "metadata": {},
   "outputs": [
    {
     "name": "stdout",
     "output_type": "stream",
     "text": [
      "accuracy: 0.223000\n",
      "accuracy: 0.231000\n",
      "accuracy: 0.246000\n",
      "accuracy: 0.244000\n",
      "accuracy: 0.243000\n",
      "accuracy: 0.219000\n",
      "accuracy: 0.200000\n"
     ]
    }
   ],
   "source": [
    "# assume we have Xtr_rows, Ytr, Xte_rows, Yte as before\n",
    "# recall Xtr_rows is 50,000 x 3072 matrix\n",
    "Xval_rows = Xtr_rows[:1000, :] # take first 1000 for validation\n",
    "Yval = Ytr[:1000]\n",
    "Xtr_rows = Xtr_rows[1000:, :] # keep last 49,000 for train\n",
    "Ytr = Ytr[1000:]\n",
    "\n",
    "# find hyperparameters that work best on the validation set\n",
    "validation_accuracies = []\n",
    "for k in [1, 3, 5, 10, 20, 50, 100]:\n",
    "\n",
    "  # use a particular value of k and evaluation on validation data\n",
    "  nn = NearestNeighbor()\n",
    "  nn.train(Xtr_rows, Ytr)\n",
    "  # here we assume a modified NearestNeighbor class that can take a k as input\n",
    "  Yval_predict = nn.predict(Xval_rows, k = k)\n",
    "  acc = np.mean(Yval_predict == Yval)\n",
    "  print(f'accuracy: %f' % (acc,))\n",
    "\n",
    "  # keep track of what works on the validation set\n",
    "  validation_accuracies.append((k, acc))"
   ]
  },
  {
   "cell_type": "markdown",
   "id": "a590c517",
   "metadata": {},
   "source": [
    "As we can see, the accuracy tends to reach a peek at k = 5.\n",
    "\n",
    "__Cross-validation__. In cases where the size of your training data (and therefore also the validation data) might be small, people sometimes use a more sophisticated technique for hyperparameter tuning called cross-validation. Working with our previous example, the idea is that instead of arbitrarily picking the first 1000 datapoints to be the validation set and rest training set, you can get a better and less noisy estimate of how well a certain value of k works by iterating over different validation sets and averaging the performance across these. For example, in 5-fold cross-validation, we would split the training data into 5 equal folds, use 4 of them for training, and 1 for validation. We would then iterate over which fold is the validation fold, evaluate the performance, and finally average the performance across the different folds.\n",
    "\n",
    "In practice, people prefer to avoid cross-validation in favor of having a single validation split, since cross-validation can be computationally expensive. The splits people tend to use is between 50%-90% of the training data for training and rest for validation. However, this depends on multiple factors: For example if the number of hyperparameters is large you may prefer to use bigger validation splits. If the number of examples in the validation set is small (perhaps only a few hundred or so), it is safer to use cross-validation. Typical number of folds you can see in practice would be 3-fold, 5-fold or 10-fold cross-validation."
   ]
  },
  {
   "cell_type": "markdown",
   "id": "929438a0",
   "metadata": {},
   "source": [
    "## 1.5 Pros and Cons of NearestNeighbour Classifiers\n",
    "\n",
    "It is worth considering some advantages and drawbacks of the Nearest Neighbor classifier. Clearly, one advantage is that it is very simple to implement and understand. Additionally, the classifier takes no time to train, since all that is required is to store and possibly index the training data. However, we pay that computational cost at test time, since classifying a test example requires a comparison to every single training example. This is backwards, since in practice we often care about the test time efficiency much more than the efficiency at training time. In fact, the deep neural networks we will develop later in this class shift this tradeoff to the other extreme: They are very expensive to train, but once the training is finished it is very cheap to classify a new test example. This mode of operation is much more desirable in practice.\n",
    "\n",
    "The Nearest Neighbor Classifier may sometimes be a good choice in some settings (especially if the data is low-dimensional), but it is rarely appropriate for use in practical image classification settings. One problem is that images are high-dimensional objects (i.e. they often contain many pixels), and distances over high-dimensional spaces can be very counter-intuitive."
   ]
  },
  {
   "cell_type": "markdown",
   "id": "fefc1f79",
   "metadata": {},
   "source": [
    "## 1.6 Extra: Applying kNN in Practice\n",
    "\n",
    "If you wish to apply kNN in practice (hopefully not on images, or perhaps as only a baseline) proceed as follows:\n",
    "\n",
    "1. Preprocess your data: Normalize the features in your data (e.g. one pixel in images) to have zero mean and unit variance. We will cover this in more detail in later sections, and chose not to cover data normalization in this section because pixels in images are usually homogeneous and do not exhibit widely different distributions, alleviating the need for data normalization.\n",
    "\n",
    "2. If your data is very high-dimensional, consider using a dimensionality reduction technique such as PCA (wiki ref, CS229ref, blog ref), NCA (wiki ref, blog ref), or even Random Projections.\n",
    "\n",
    "3. Split your training data randomly into train/val splits. As a rule of thumb, between 70-90% of your data usually goes to the train split. This setting depends on how many hyperparameters you have and how much of an influence you expect them to have. If there are many hyperparameters to estimate, you should err on the side of having larger validation set to estimate them effectively. If you are concerned about the size of your validation data, it is best to split the training data into folds and perform cross-validation. If you can afford the computational budget it is always safer to go with cross-validation (the more folds the better, but more expensive).\n",
    "\n",
    "4. Train and evaluate the kNN classifier on the validation data (for all folds, if doing cross-validation) for many choices of k (e.g. the more the better) and across different distance types (L1 and L2 are good candidates)\n",
    "\n",
    "5. If your kNN classifier is running too long, consider using an Approximate Nearest Neighbor library (e.g. FLANN) to accelerate the retrieval (at cost of some accuracy).\n",
    "\n",
    "6. Take note of the hyperparameters that gave the best results. There is a question of whether you should use the full training set with the best hyperparameters, since the optimal hyperparameters might change if you were to fold the validation data into your training set (since the size of the data would be larger). In practice it is cleaner to not use the validation data in the final classifier and consider it to be burned on estimating the hyperparameters. Evaluate the best model on the test set. Report the test set accuracy and declare the result to be the performance of the kNN classifier on your data."
   ]
  }
 ],
 "metadata": {
  "kernelspec": {
   "display_name": "Python 3",
   "language": "python",
   "name": "python3"
  },
  "language_info": {
   "codemirror_mode": {
    "name": "ipython",
    "version": 3
   },
   "file_extension": ".py",
   "mimetype": "text/x-python",
   "name": "python",
   "nbconvert_exporter": "python",
   "pygments_lexer": "ipython3",
   "version": "3.8.8"
  }
 },
 "nbformat": 4,
 "nbformat_minor": 5
}
